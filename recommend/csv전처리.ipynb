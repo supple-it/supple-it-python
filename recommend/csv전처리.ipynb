{
 "cells": [
  {
   "cell_type": "code",
   "execution_count": 15,
   "metadata": {},
   "outputs": [],
   "source": [
    "import pandas as pd\n",
    "import os"
   ]
  },
  {
   "cell_type": "markdown",
   "metadata": {},
   "source": [
    "### 전체 데이터의 기능성항목에 해당 키워드를 포함한 제품을 추출 (ver.1)\n",
    "#### 아래의 ver.2를 사용하세요."
   ]
  },
  {
   "cell_type": "code",
   "execution_count": null,
   "metadata": {},
   "outputs": [],
   "source": [
    "df = pd.read_csv('../data/supplements_20250311.csv')\n",
    "# 키워드 목록 (사용자가 찾을 가능성이 높은 주요 기능성)\n",
    "keywords = ['비타민']\n",
    "\n",
    "# 키워드별로 제품을 필터링 후 CSV로 저장\n",
    "for keyword in keywords:\n",
    "    filtered_df = df[df['기능성'].str.contains(keyword, case=False, na=False)]\n",
    "    \n",
    "    if not filtered_df.empty:\n",
    "        file_name = f'preprocessed_{keyword.replace(\" \", \"_\")}.csv'\n",
    "        filtered_df.to_csv(file_name, index=False, encoding='utf-8-sig')\n",
    "        print(f\"📂 '{keyword}' 관련 제품을 '{file_name}'로 저장 완료!\")"
   ]
  },
  {
   "cell_type": "markdown",
   "metadata": {},
   "source": [
    "### 전체 데이터의 기능성항목에 해당 키워드를 포함하고 국내에서 판매하지 않는 제품을 필터링.(ver.2)"
   ]
  },
  {
   "cell_type": "markdown",
   "metadata": {},
   "source": [
    "### 1. 영양제 성분 (Top 10) \n",
    "비타민\t4678.35   \n",
    "단백질\t2200.61   \n",
    "칼슘\t2130.34   \n",
    "시스테인\t1521.23   \n",
    "아연\t1455.68   \n",
    "프로바이오틱스\t1431.49   \n",
    "홍삼\t784.47    \n",
    "엽산\t909.28    \n",
    "셀렌\t597.90    \n",
    "나이아신\t562.80    "
   ]
  },
  {
   "cell_type": "markdown",
   "metadata": {},
   "source": []
  },
  {
   "cell_type": "code",
   "execution_count": 18,
   "metadata": {},
   "outputs": [
    {
     "name": "stdout",
     "output_type": "stream",
     "text": [
      "'비타민' 관련 제품을 './data/nutrient\\preprocessed_비타민.csv'로 저장 완료!\n",
      "'단백질' 관련 제품을 './data/nutrient\\preprocessed_단백질.csv'로 저장 완료!\n",
      "'칼슘' 관련 제품을 './data/nutrient\\preprocessed_칼슘.csv'로 저장 완료!\n",
      "'아연' 관련 제품을 './data/nutrient\\preprocessed_아연.csv'로 저장 완료!\n",
      "'프로바이오틱스' 관련 제품을 './data/nutrient\\preprocessed_프로바이오틱스.csv'로 저장 완료!\n",
      "'시스테인' 관련 제품을 './data/nutrient\\preprocessed_시스테인.csv'로 저장 완료!\n",
      "'엽산' 관련 제품을 './data/nutrient\\preprocessed_엽산.csv'로 저장 완료!\n",
      "'셀렌' 관련 제품을 './data/nutrient\\preprocessed_셀렌.csv'로 저장 완료!\n",
      "'나이아신' 관련 제품을 './data/nutrient\\preprocessed_나이아신.csv'로 저장 완료!\n"
     ]
    }
   ],
   "source": [
    "# 영양소별 전처리\n",
    "\n",
    "import os\n",
    "import pandas as pd\n",
    "\n",
    "# CSV 파일 로드\n",
    "df = pd.read_csv('./data/supplements_20250311.csv')\n",
    "\n",
    "# 검색할 영양소 리스트\n",
    "keywords = ['비타민', '단백질', '칼슘', '아연', '프로바이오틱스', '시스테인','엽산','셀렌','나이아신']\n",
    "\n",
    "# 저장할 폴더 경로\n",
    "file_path = \"./data/nutrient\"\n",
    "\n",
    "# 폴더가 없으면 생성\n",
    "if not os.path.exists(file_path):\n",
    "    os.makedirs(file_path)\n",
    "\n",
    "# 각 영양소별로 필터링하여 CSV 저장\n",
    "for keyword in keywords:\n",
    "    # \"기능성\" 열에서 keyword가 포함된 데이터 필터링\n",
    "    filtered_df = df[df['기능성'].str.contains(keyword, case=False, na=False)]\n",
    "    \n",
    "    # \"제품명\" 열에서 \"수출\"이 포함된 항목 제외\n",
    "    filtered_df = filtered_df[~filtered_df['제품명'].str.contains('수출', case=False, na=False)]\n",
    "    \n",
    "    if not filtered_df.empty:\n",
    "        file_name = f'preprocessed_{keyword.replace(\" \", \"_\")}.csv'\n",
    "        full_path = os.path.join(file_path, file_name)\n",
    "        \n",
    "        # CSV 파일 저장\n",
    "        filtered_df.to_csv(full_path, index=False, encoding='utf-8-sig')\n",
    "        print(f\"'{keyword}' 관련 제품을 '{full_path}'로 저장 완료!\")\n",
    "    else:\n",
    "        print(f\"'{keyword}' 관련 데이터가 없습니다.\")\n"
   ]
  },
  {
   "cell_type": "markdown",
   "metadata": {},
   "source": [
    "### 부위/기능 관련 (Top 10)   \n",
    "피로\t2783.03   \n",
    "골다공증\t2207.18   \n",
    "지방\t1930.31   \n",
    "피부\t1520.61     \n",
    "체지방\t1513.37   \n",
    "혈행\t1239.05   \n",
    "근육\t1162.89   \n",
    "신경\t1131.90   \n",
    "콜레스테롤\t1083.12   \n",
    "관절\t1075.39     "
   ]
  },
  {
   "cell_type": "code",
   "execution_count": 13,
   "metadata": {},
   "outputs": [
    {
     "name": "stdout",
     "output_type": "stream",
     "text": [
      "'피로' 관련 제품을 '../data/efficacy\\preprocessed_피로.csv'로 저장 완료!\n",
      "'골다공증' 관련 제품을 '../data/efficacy\\preprocessed_골다공증.csv'로 저장 완료!\n",
      "'피부' 관련 제품을 '../data/efficacy\\preprocessed_피부.csv'로 저장 완료!\n",
      "'체지방' 관련 제품을 '../data/efficacy\\preprocessed_체지방.csv'로 저장 완료!\n",
      "'혈행' 관련 제품을 '../data/efficacy\\preprocessed_혈행.csv'로 저장 완료!\n",
      "'근육' 관련 제품을 '../data/efficacy\\preprocessed_근육.csv'로 저장 완료!\n",
      "'신경' 관련 제품을 '../data/efficacy\\preprocessed_신경.csv'로 저장 완료!\n",
      "'콜레스테롤' 관련 제품을 '../data/efficacy\\preprocessed_콜레스테롤.csv'로 저장 완료!\n",
      "'관절' 관련 제품을 '../data/efficacy\\preprocessed_관절.csv'로 저장 완료!\n"
     ]
    }
   ],
   "source": [
    "# 효능별 전처리 \n",
    "\n",
    "import os\n",
    "import pandas as pd\n",
    "\n",
    "# CSV 파일 로드\n",
    "df = pd.read_csv('../data/supplements_20250311.csv')\n",
    "\n",
    "# 검색할 효능 리스트\n",
    "keywords = ['피로', '골다공증', '피부', '체지방', '혈행', '근육', '신경', '콜레스테롤', '관절']\n",
    "\n",
    "# 저장할 폴더 경로\n",
    "file_path = \"../data/efficacy\"\n",
    "\n",
    "# 폴더가 없으면 생성\n",
    "if not os.path.exists(file_path):\n",
    "    os.makedirs(file_path)\n",
    "\n",
    "# 각 영양소별로 필터링하여 CSV 저장\n",
    "for keyword in keywords:\n",
    "    # \"기능성\" 열에서 keyword가 포함된 데이터 필터링\n",
    "    filtered_df = df[df['기능성'].str.contains(keyword, case=False, na=False)]\n",
    "    \n",
    "    # \"제품명\" 열에서 \"수출\"이 포함된 항목 제외\n",
    "    filtered_df = filtered_df[~filtered_df['제품명'].str.contains('수출', case=False, na=False)]\n",
    "    \n",
    "    if not filtered_df.empty:\n",
    "        file_name = f'preprocessed_{keyword.replace(\" \", \"_\")}.csv'\n",
    "        full_path = os.path.join(file_path, file_name)\n",
    "        \n",
    "        # CSV 파일 저장\n",
    "        filtered_df.to_csv(full_path, index=False, encoding='utf-8-sig')\n",
    "        print(f\"'{keyword}' 관련 제품을 '{full_path}'로 저장 완료!\")\n",
    "    else:\n",
    "        print(f\"'{keyword}' 관련 데이터가 없습니다.\")"
   ]
  }
 ],
 "metadata": {
  "kernelspec": {
   "display_name": "SUPPLE IT-python",
   "language": "python",
   "name": "python3"
  },
  "language_info": {
   "codemirror_mode": {
    "name": "ipython",
    "version": 3
   },
   "file_extension": ".py",
   "mimetype": "text/x-python",
   "name": "python",
   "nbconvert_exporter": "python",
   "pygments_lexer": "ipython3",
   "version": "3.12.6"
  }
 },
 "nbformat": 4,
 "nbformat_minor": 2
}
