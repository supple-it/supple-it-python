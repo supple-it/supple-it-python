{
 "cells": [
  {
   "cell_type": "markdown",
   "metadata": {},
   "source": [
    "# 불용어+명사 필터링"
   ]
  },
  {
   "cell_type": "code",
   "execution_count": 1,
   "metadata": {},
   "outputs": [
    {
     "name": "stdout",
     "output_type": "stream",
     "text": [
      "불용어 제거 후 데이터가 ./data/processed_supplements.csv에 저장되었습니다.\n"
     ]
    }
   ],
   "source": [
    "import pandas as pd\n",
    "from sklearn.feature_extraction.text import TfidfVectorizer\n",
    "import joblib\n",
    "from scipy.sparse import vstack\n",
    "from konlpy.tag import Okt\n",
    "import numpy as np\n",
    "\n",
    "# CSV 파일 로드\n",
    "data = pd.read_csv('./data/supplements_20250311.csv')  # '제품명'과 '기능성' 컬럼 사용\n",
    "\n",
    "# KoNLPy의 Okt 객체를 사용하여 형태소 분석\n",
    "okt = Okt()\n",
    "\n",
    "# 불용어 목록을 텍스트 파일에서 읽어오기\n",
    "def load_stopwords(file_path):\n",
    "    with open(file_path, 'r', encoding='utf-8') as file:\n",
    "        stopwords = file.read().splitlines()\n",
    "    return stopwords\n",
    "\n",
    "# 불용어 리스트 로드\n",
    "stop_words = load_stopwords('./data/stopwords-ko.txt')\n",
    "\n",
    "# 텍스트 전처리 함수 (형태소 분석 및 불용어 처리)\n",
    "def preprocess_text(text):\n",
    "    if pd.isna(text):  # NaN 값이 있을 경우 빈 문자열로 처리\n",
    "        return ''\n",
    "    try:\n",
    "        # 형태소 분석을 통해 명사만 추출\n",
    "        nouns = okt.nouns(text)\n",
    "        # 불용어 제거\n",
    "        filtered_nouns = [word for word in nouns if word not in stop_words]\n",
    "        return ' '.join(filtered_nouns) if filtered_nouns else ''\n",
    "    except Exception as e:\n",
    "        print(f\"Error processing text: {text[:30]}... -> {e}\")  # 텍스트 앞 30글자만 출력\n",
    "        return ''\n",
    "\n",
    "# 텍스트 전처리 (기능성 컬럼만 처리)\n",
    "data['processed_text'] = data['기능성'].apply(preprocess_text)\n",
    "\n",
    "# 불용어 제거 후 CSV 저장 (제품명 컬럼 유지)\n",
    "\n",
    "processed_csv_path = './data/processed_supplements.csv'\n",
    "data[['제품명', '기능성', 'processed_text']].to_csv(processed_csv_path, index=False, encoding='utf-8-sig')\n",
    "\n",
    "print(f\"불용어 제거 후 데이터가 {processed_csv_path}에 저장되었습니다.\")"
   ]
  },
  {
   "cell_type": "markdown",
   "metadata": {},
   "source": [
    "# 불용어 파일로만 필터링\n",
    "\n"
   ]
  },
  {
   "cell_type": "code",
   "execution_count": null,
   "metadata": {},
   "outputs": [],
   "source": [
    "import pandas as pd\n",
    "from sklearn.feature_extraction.text import TfidfVectorizer\n",
    "import joblib\n",
    "from scipy.sparse import vstack\n",
    "import numpy as np\n",
    "\n",
    "# CSV 파일 로드\n",
    "data = pd.read_csv('./data/supplements_20250311.csv')  # '제품명'과 '기능성' 컬럼 사용\n",
    "\n",
    "# 불용어 목록을 텍스트 파일에서 읽어오기\n",
    "def load_stopwords(file_path):\n",
    "    with open(file_path, 'r', encoding='utf-8') as file:\n",
    "        stopwords = file.read().splitlines()\n",
    "    return stopwords\n",
    "\n",
    "# 불용어 리스트 로드\n",
    "stop_words = load_stopwords('./data/stopwords-ko.txt')\n",
    "\n",
    "# 텍스트 전처리 함수 (불용어만 제거, 원본 문장 유지)\n",
    "def preprocess_text(text):\n",
    "    if pd.isna(text):  # NaN 값이 있을 경우 빈 문자열로 처리\n",
    "        return ''\n",
    "    try:\n",
    "        words = text.split()  # 공백 기준으로 단어 분리 (전체 단어 유지)\n",
    "        filtered_words = [word for word in words if word not in stop_words]  # 불용어 제거\n",
    "        return ' '.join(filtered_words) if filtered_words else ''\n",
    "    except Exception as e:\n",
    "        print(f\"Error processing text: {text[:30]}... -> {e}\")  # 오류 발생 시 일부 출력\n",
    "        return ''\n",
    "\n",
    "# 텍스트 전처리 (기능성 컬럼만 처리)\n",
    "data['processed_text'] = data['기능성'].apply(preprocess_text)\n",
    "\n",
    "# 불용어 제거 후 CSV 저장 (제품명 컬럼 유지)\n",
    "processed_csv_path = './data/processed_supplements.csv'\n",
    "data[['제품명', '기능성', 'processed_text']].to_csv(processed_csv_path, index=False, encoding='utf-8-sig')\n",
    "\n",
    "print(f\"불용어 제거 후 데이터가 {processed_csv_path}에 저장되었습니다.\")\n"
   ]
  }
 ],
 "metadata": {
  "kernelspec": {
   "display_name": "SUPPLE IT-python",
   "language": "python",
   "name": "python3"
  },
  "language_info": {
   "codemirror_mode": {
    "name": "ipython",
    "version": 3
   },
   "file_extension": ".py",
   "mimetype": "text/x-python",
   "name": "python",
   "nbconvert_exporter": "python",
   "pygments_lexer": "ipython3",
   "version": "3.12.6"
  }
 },
 "nbformat": 4,
 "nbformat_minor": 2
}
