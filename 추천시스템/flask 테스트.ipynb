{
 "cells": [
  {
   "cell_type": "code",
   "execution_count": 10,
   "metadata": {},
   "outputs": [],
   "source": [
    "#pip install flask_cors"
   ]
  },
  {
   "cell_type": "code",
   "execution_count": null,
   "metadata": {},
   "outputs": [
    {
     "name": "stdout",
     "output_type": "stream",
     "text": [
      " * Serving Flask app '__main__'\n"
     ]
    },
    {
     "name": "stdout",
     "output_type": "stream",
     "text": [
      " * Debug mode: off\n"
     ]
    },
    {
     "name": "stderr",
     "output_type": "stream",
     "text": [
      "WARNING: This is a development server. Do not use it in a production deployment. Use a production WSGI server instead.\n",
      " * Running on http://127.0.0.1:5000\n",
      "Press CTRL+C to quit\n",
      "127.0.0.1 - - [14/Mar/2025 10:46:55] \"GET / HTTP/1.1\" 404 -\n",
      "127.0.0.1 - - [14/Mar/2025 10:46:55] \"GET /favicon.ico HTTP/1.1\" 404 -\n",
      "127.0.0.1 - - [14/Mar/2025 10:47:15] \"GET /recommend?keyword=비타민%20C HTTP/1.1\" 200 -\n",
      "127.0.0.1 - - [14/Mar/2025 10:49:58] \"GET /recommend?keyword=비타민C HTTP/1.1\" 200 -\n",
      "127.0.0.1 - - [14/Mar/2025 10:50:06] \"GET /recommend?keyword=오메가3 HTTP/1.1\" 200 -\n"
     ]
    }
   ],
   "source": [
    "## 테스트 하면 서버 끄기 어려움. Ftest.py파일을 이용할 것.\n",
    "\n",
    "import threading\n",
    "from flask import Flask, request, jsonify\n",
    "from flask_cors import CORS\n",
    "\n",
    "app = Flask(__name__)\n",
    "CORS(app, origins=\"http://localhost:8000\")\n",
    "\n",
    "recommendations = {\n",
    "    \"비타민 C\": [\"아스코르빈산\", \"레몬 추출물\", \"항산화제\"],\n",
    "    \"비타민 D\": [\"콜레칼시페롤\", \"햇빛\", \"칼슘 흡수\"],\n",
    "    \"오메가3\": [\"DHA\", \"EPA\", \"혈액순환 개선\"]\n",
    "}\n",
    "\n",
    "@app.route('/recommend', methods=['GET'])\n",
    "def recommend():\n",
    "    keyword = request.args.get('keyword', '')  \n",
    "    result = recommendations.get(keyword, [\"추천 결과 없음\"])\n",
    "    return jsonify({\"keyword\": keyword, \"recommendations\": result})\n",
    "\n",
    "# Flask를 백그라운드에서 실행하는 함수\n",
    "def run_flask():\n",
    "    app.run(debug=False, use_reloader=False, port=5000)\n",
    "\n",
    "# 백그라운드에서 실행 (Jupyter Notebook과 충돌 방지)\n",
    "thread = threading.Thread(target=run_flask)\n",
    "thread.start()\n"
   ]
  }
 ],
 "metadata": {
  "kernelspec": {
   "display_name": "SUPPLE IT-python",
   "language": "python",
   "name": "python3"
  },
  "language_info": {
   "codemirror_mode": {
    "name": "ipython",
    "version": 3
   },
   "file_extension": ".py",
   "mimetype": "text/x-python",
   "name": "python",
   "nbconvert_exporter": "python",
   "pygments_lexer": "ipython3",
   "version": "3.12.6"
  }
 },
 "nbformat": 4,
 "nbformat_minor": 2
}
