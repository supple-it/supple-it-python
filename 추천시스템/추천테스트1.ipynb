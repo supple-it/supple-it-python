{
 "cells": [
  {
   "cell_type": "code",
   "execution_count": null,
   "metadata": {},
   "outputs": [],
   "source": [
    "import pandas as pd\n",
    "from sklearn.feature_extraction.text import TfidfVectorizer\n",
    "from sklearn.cluster import KMeans\n",
    "\n",
    "df = pd.read_csv('../data/supplements_20250311.csv')"
   ]
  },
  {
   "cell_type": "code",
   "execution_count": 4,
   "metadata": {},
   "outputs": [
    {
     "name": "stdout",
     "output_type": "stream",
     "text": [
      "📂 '비타민' 관련 제품을 'preprocessed_비타민.csv'로 저장 완료!\n"
     ]
    }
   ],
   "source": [
    "# 키워드 목록 (사용자가 찾을 가능성이 높은 주요 기능성)\n",
    "keywords = ['비타민']\n",
    "\n",
    "# 키워드별로 제품을 필터링 후 CSV로 저장\n",
    "for keyword in keywords:\n",
    "    filtered_df = df[df['기능성'].str.contains(keyword, case=False, na=False)]\n",
    "    \n",
    "    if not filtered_df.empty:\n",
    "        file_name = f'preprocessed_{keyword.replace(\" \", \"_\")}.csv'\n",
    "        filtered_df.to_csv(file_name, index=False, encoding='utf-8-sig')\n",
    "        print(f\"📂 '{keyword}' 관련 제품을 '{file_name}'로 저장 완료!\")"
   ]
  },
  {
   "cell_type": "code",
   "execution_count": 1,
   "metadata": {},
   "outputs": [
    {
     "name": "stdout",
     "output_type": "stream",
     "text": [
      "                       제품명\n",
      "2436               철분 프리미엄\n",
      "2229                   잇튼튼\n",
      "3281              활성엽산 영양제\n",
      "2223                    잇센\n",
      "3173  L-아르기닌 에너지 분말(전량수출용)\n",
      "2228                   잇타민\n",
      "2557      코엔자임큐텐 맥스 100 mg\n",
      "2548               코엔자임Q10\n",
      "98               덴티모어 임플타민\n"
     ]
    }
   ],
   "source": [
    "import pandas as pd\n",
    "from sklearn.feature_extraction.text import TfidfVectorizer\n",
    "from sklearn.metrics.pairwise import cosine_similarity\n",
    "\n",
    "# CSV 파일 로드\n",
    "df = pd.read_csv('preprocessed_비타민.csv')\n",
    "\n",
    "# 결측값 제거\n",
    "df = df.dropna(subset=['기능성'])\n",
    "\n",
    "# TF-IDF 벡터화\n",
    "tfidf = TfidfVectorizer()\n",
    "tfidf_matrix = tfidf.fit_transform(df['기능성'])\n",
    "\n",
    "# 코사인 유사도 계산\n",
    "cosine_sim = cosine_similarity(tfidf_matrix, tfidf_matrix)\n",
    "\n",
    "# **📌 키워드를 TF-IDF로 검색하는 방식으로 변경**\n",
    "def recommend(keyword, limit=5):\n",
    "    \"\"\"키워드 기반 제품 추천\"\"\"\n",
    "    # 🔹 키워드를 TF-IDF로 변환\n",
    "    keyword_vec = tfidf.transform([keyword])\n",
    "\n",
    "    # 🔹 키워드와 모든 제품 간 코사인 유사도 계산\n",
    "    sim_scores = cosine_similarity(keyword_vec, tfidf_matrix)[0]\n",
    "\n",
    "    # 🔹 유사도가 높은 상위 limit개 제품 가져오기\n",
    "    top_indices = sim_scores.argsort()[-limit:][::-1]\n",
    "\n",
    "    return df[['제품명']].iloc[top_indices]\n",
    "\n",
    "# 예시 테스트: '비타민'과 관련된 추천 제품\n",
    "recommend_results = recommend('비타민K', limit=9)\n",
    "print(recommend_results)\n",
    "\n",
    "\n"
   ]
  },
  {
   "cell_type": "code",
   "execution_count": 36,
   "metadata": {},
   "outputs": [
    {
     "name": "stdout",
     "output_type": "stream",
     "text": [
      "                           제품명\n",
      "303            리포좀 비타민C & 비타민D\n",
      "3397  고려은단 비타민C 1000 구미 + 비타민D\n",
      "306        리포좀 비타민C + 리포좀 비타민D\n",
      "706          면역기능에 필요한 아연 비타민D\n",
      "2746                 튼튼아연+비타민D\n",
      "3401     고려은단 비타민C1000 이지+비타민D\n",
      "1495       써니 비타민D 플러스C (복숭아맛)\n",
      "3402     고려은단 비타민C1000 이지+비타민D\n",
      "22             더블 업 철분 엽산 비타민D\n"
     ]
    }
   ],
   "source": [
    "import pandas as pd\n",
    "from sklearn.feature_extraction.text import TfidfVectorizer\n",
    "from sklearn.metrics.pairwise import cosine_similarity\n",
    "\n",
    "# CSV 파일 로드\n",
    "df = pd.read_csv('preprocessed_비타민.csv')\n",
    "\n",
    "# 결측값 제거\n",
    "df = df.dropna(subset=['기능성', '제품명'])\n",
    "\n",
    "# 기능성과 제품명을 결합하여 하나의 텍스트 컬럼 생성\n",
    "df['기능성_제품명'] = df['기능성'] + \" \" + df['제품명']\n",
    "\n",
    "# TF-IDF 벡터화\n",
    "tfidf = TfidfVectorizer()\n",
    "tfidf_matrix = tfidf.fit_transform(df['기능성_제품명'])\n",
    "\n",
    "# 코사인 유사도 계산\n",
    "cosine_sim = cosine_similarity(tfidf_matrix, tfidf_matrix)\n",
    "\n",
    "# **📌 키워드를 TF-IDF로 검색하는 방식으로 변경**\n",
    "def recommend(keyword, limit=5):\n",
    "    \"\"\"키워드 기반 제품 추천\"\"\"\n",
    "    # 🔹 키워드를 TF-IDF로 변환\n",
    "    keyword_vec = tfidf.transform([keyword])\n",
    "\n",
    "    # 🔹 키워드와 모든 제품 간 코사인 유사도 계산\n",
    "    sim_scores = cosine_similarity(keyword_vec, tfidf_matrix)[0]\n",
    "\n",
    "    # 🔹 유사도가 높은 상위 limit개 제품 가져오기\n",
    "    top_indices = sim_scores.argsort()[-limit:][::-1]\n",
    "\n",
    "    return df[['제품명']].iloc[top_indices]\n",
    "\n",
    "# 예시 테스트: '비타민'과 관련된 추천 제품\n",
    "recommend_results = recommend('비타민D', limit=9)\n",
    "print(recommend_results)\n"
   ]
  }
 ],
 "metadata": {
  "kernelspec": {
   "display_name": "SUPPLE IT-python",
   "language": "python",
   "name": "python3"
  },
  "language_info": {
   "codemirror_mode": {
    "name": "ipython",
    "version": 3
   },
   "file_extension": ".py",
   "mimetype": "text/x-python",
   "name": "python",
   "nbconvert_exporter": "python",
   "pygments_lexer": "ipython3",
   "version": "3.12.6"
  }
 },
 "nbformat": 4,
 "nbformat_minor": 2
}
