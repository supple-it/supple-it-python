{
 "cells": [
  {
   "cell_type": "code",
   "execution_count": 1,
   "metadata": {},
   "outputs": [],
   "source": [
    "# 예시로 Jupyter Notebook에서 테스트하는 코드\n",
    "import pandas as pd\n",
    "from sklearn.feature_extraction.text import TfidfVectorizer\n",
    "from sklearn.cluster import KMeans\n",
    "\n",
    "df = pd.read_csv('../data/supplements_20250311.csv')"
   ]
  },
  {
   "cell_type": "code",
   "execution_count": 9,
   "metadata": {},
   "outputs": [
    {
     "name": "stdout",
     "output_type": "stream",
     "text": [
      "<class 'pandas.core.frame.DataFrame'>\n",
      "RangeIndex: 40459 entries, 0 to 40458\n",
      "Data columns (total 6 columns):\n",
      " #   Column  Non-Null Count  Dtype \n",
      "---  ------  --------------  ----- \n",
      " 0   제조사     40459 non-null  object\n",
      " 1   제품명     40459 non-null  object\n",
      " 2   신고번호    40459 non-null  int64 \n",
      " 3   등록일     40459 non-null  int64 \n",
      " 4   유통기한    40457 non-null  object\n",
      " 5   기능성     40451 non-null  object\n",
      "dtypes: int64(2), object(4)\n",
      "memory usage: 1.9+ MB\n"
     ]
    }
   ],
   "source": [
    "df.info()"
   ]
  },
  {
   "cell_type": "code",
   "execution_count": 6,
   "metadata": {},
   "outputs": [
    {
     "name": "stdout",
     "output_type": "stream",
     "text": [
      "📂 '비타민C' 관련 제품을 'preprocessed_비타민C.csv'로 저장 완료!\n"
     ]
    }
   ],
   "source": [
    "# 키워드 목록 (사용자가 찾을 가능성이 높은 주요 기능성)\n",
    "keywords = ['비타민C']\n",
    "\n",
    "# 키워드별로 제품을 필터링 후 CSV로 저장\n",
    "for keyword in keywords:\n",
    "    filtered_df = df[df['기능성'].str.contains(keyword, case=False, na=False)]\n",
    "    \n",
    "    if not filtered_df.empty:\n",
    "        file_name = f'preprocessed_{keyword.replace(\" \", \"_\")}.csv'\n",
    "        filtered_df.to_csv(file_name, index=False, encoding='utf-8-sig')\n",
    "        print(f\"📂 '{keyword}' 관련 제품을 '{file_name}'로 저장 완료!\")\n"
   ]
  },
  {
   "cell_type": "code",
   "execution_count": 15,
   "metadata": {},
   "outputs": [
    {
     "name": "stdout",
     "output_type": "stream",
     "text": [
      "                 제품명\n",
      "885   벨더웰 이뮨 멀티비타 듀오\n",
      "2144    이뮨 듀오 멀티비타맥스\n",
      "3363       간에좋은 밀크씨슬\n",
      "1332     소중한 눈건강 루테인\n",
      "468       멀티비타민 면역 업\n"
     ]
    }
   ],
   "source": [
    "import pandas as pd\n",
    "from sklearn.feature_extraction.text import TfidfVectorizer\n",
    "from sklearn.metrics.pairwise import cosine_similarity\n",
    "\n",
    "# CSV 파일 로드\n",
    "df = pd.read_csv('preprocessed_비타민C.csv')\n",
    "\n",
    "# 결측값 제거\n",
    "df = df.dropna(subset=['기능성'])\n",
    "\n",
    "# TF-IDF 벡터화\n",
    "tfidf = TfidfVectorizer()\n",
    "tfidf_matrix = tfidf.fit_transform(df['기능성'])\n",
    "\n",
    "# 코사인 유사도 계산\n",
    "cosine_sim = cosine_similarity(tfidf_matrix, tfidf_matrix)\n",
    "\n",
    "# **📌 키워드를 TF-IDF로 검색하는 방식으로 변경**\n",
    "def recommend(keyword, limit=5):\n",
    "    \"\"\"키워드 기반 제품 추천\"\"\"\n",
    "    # 🔹 키워드를 TF-IDF로 변환\n",
    "    keyword_vec = tfidf.transform([keyword])\n",
    "\n",
    "    # 🔹 키워드와 모든 제품 간 코사인 유사도 계산\n",
    "    sim_scores = cosine_similarity(keyword_vec, tfidf_matrix)[0]\n",
    "\n",
    "    # 🔹 유사도가 높은 상위 limit개 제품 가져오기\n",
    "    top_indices = sim_scores.argsort()[-limit:][::-1]\n",
    "\n",
    "    return df[['제품명']].iloc[top_indices]\n",
    "\n",
    "# 예시 테스트: '비타민 C'와 관련된 추천 제품\n",
    "recommend_results = recommend('비타민 C', limit=5)\n",
    "print(recommend_results)\n"
   ]
  },
  {
   "cell_type": "code",
   "execution_count": 16,
   "metadata": {},
   "outputs": [
    {
     "name": "stdout",
     "output_type": "stream",
     "text": [
      "📂 '피로' 관련 제품을 'preprocessed_피로.csv'로 저장 완료!\n"
     ]
    }
   ],
   "source": [
    "# 키워드 목록 (사용자가 찾을 가능성이 높은 주요 기능성)\n",
    "keywords = ['피로']\n",
    "\n",
    "# 키워드별로 제품을 필터링 후 CSV로 저장\n",
    "for keyword in keywords:\n",
    "    filtered_df = df[df['기능성'].str.contains(keyword, case=False, na=False)]\n",
    "    \n",
    "    if not filtered_df.empty:\n",
    "        file_name = f'preprocessed_{keyword.replace(\" \", \"_\")}.csv'\n",
    "        filtered_df.to_csv(file_name, index=False, encoding='utf-8-sig')\n",
    "        print(f\"📂 '{keyword}' 관련 제품을 '{file_name}'로 저장 완료!\")"
   ]
  },
  {
   "cell_type": "code",
   "execution_count": 19,
   "metadata": {},
   "outputs": [
    {
     "name": "stdout",
     "output_type": "stream",
     "text": [
      "              제품명\n",
      "178      간편한 밀크씨슬\n",
      "125          티알에스\n",
      "157       홍경천비타민C\n",
      "184      골든루트밀크씨슬\n",
      "136  피로엔 홍경천 밀크씨슬\n"
     ]
    }
   ],
   "source": [
    "import pandas as pd\n",
    "from sklearn.feature_extraction.text import TfidfVectorizer\n",
    "from sklearn.metrics.pairwise import cosine_similarity\n",
    "\n",
    "# CSV 파일 로드\n",
    "df = pd.read_csv('preprocessed_피로.csv')\n",
    "\n",
    "# 결측값 제거\n",
    "df = df.dropna(subset=['기능성'])\n",
    "\n",
    "# TF-IDF 벡터화\n",
    "tfidf = TfidfVectorizer()\n",
    "tfidf_matrix = tfidf.fit_transform(df['기능성'])\n",
    "\n",
    "# 코사인 유사도 계산\n",
    "cosine_sim = cosine_similarity(tfidf_matrix, tfidf_matrix)\n",
    "\n",
    "# **📌 키워드를 TF-IDF로 검색하는 방식으로 변경**\n",
    "def recommend(keyword, limit=5):\n",
    "    \"\"\"키워드 기반 제품 추천\"\"\"\n",
    "    # 🔹 키워드를 TF-IDF로 변환\n",
    "    keyword_vec = tfidf.transform([keyword])\n",
    "\n",
    "    # 🔹 키워드와 모든 제품 간 코사인 유사도 계산\n",
    "    sim_scores = cosine_similarity(keyword_vec, tfidf_matrix)[0]\n",
    "\n",
    "    # 🔹 유사도가 높은 상위 limit개 제품 가져오기\n",
    "    top_indices = sim_scores.argsort()[-limit:][::-1]\n",
    "\n",
    "    return df[['제품명']].iloc[top_indices]\n",
    "\n",
    "# 예시 테스트: '피로'와 관련된 추천 제품\n",
    "recommend_results = recommend('피로', limit=5)\n",
    "print(recommend_results)\n"
   ]
  }
 ],
 "metadata": {
  "kernelspec": {
   "display_name": "SUPPLE IT-python",
   "language": "python",
   "name": "python3"
  },
  "language_info": {
   "codemirror_mode": {
    "name": "ipython",
    "version": 3
   },
   "file_extension": ".py",
   "mimetype": "text/x-python",
   "name": "python",
   "nbconvert_exporter": "python",
   "pygments_lexer": "ipython3",
   "version": "3.12.6"
  }
 },
 "nbformat": 4,
 "nbformat_minor": 2
}
